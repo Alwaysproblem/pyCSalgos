{
 "metadata": {
  "name": "",
  "signature": "sha256:6b9fd6f3af07f2f8ea12724574948529cd6c947ae65c6e2f447835e3bb02b8e6"
 },
 "nbformat": 3,
 "nbformat_minor": 0,
 "worksheets": [
  {
   "cells": [
    {
     "cell_type": "code",
     "collapsed": false,
     "input": [
      "\"\"\"\n",
      "example_phase_transition.py\n",
      "\n",
      "An example of generating a phase transition plot\n",
      "\"\"\"\n",
      "\n",
      "import sys\n",
      "print sys.path\n",
      "\n",
      "import numpy\n",
      "from pyCSalgos.phase_transition import PhaseTransition\n",
      "from pyCSalgos.omp import OrthogonalMatchingPursuit\n",
      "from pyCSalgos.l1min import L1Min\n",
      "from pyCSalgos.sl0 import SmoothedL0\n",
      "\n",
      "def run():\n",
      "    n, N = 50, 70\n",
      "    deltas = numpy.arange(0.1, 0.9, 0.1)\n",
      "    rhos = numpy.arange(0.1, 0.9, 0.1)\n",
      "    pt = PhaseTransition(n, N, deltas, rhos, 3,\n",
      "                         [OrthogonalMatchingPursuit(1e-6, algorithm=\"sparsify_QR\"),\n",
      "                          L1Min(1e-6),\n",
      "                          SmoothedL0(1e-6),\n",
      "                          TwoStageThresholding(1e-6)])\n",
      "    pt.run()\n",
      "    pt.plot()\n",
      "    \n",
      "    print \"Example finished.\"\n",
      "\n",
      "if __name__ == \"__main__\":\n",
      "    run()"
     ],
     "language": "python",
     "metadata": {},
     "outputs": [
      {
       "output_type": "stream",
       "stream": "stdout",
       "text": [
        "['', 'G:\\\\pyCSalgos', 'C:\\\\Anaconda\\\\python27.zip', 'C:\\\\Anaconda\\\\DLLs', 'C:\\\\Anaconda\\\\lib', 'C:\\\\Anaconda\\\\lib\\\\plat-win', 'C:\\\\Anaconda\\\\lib\\\\lib-tk', 'C:\\\\Anaconda', 'C:\\\\Anaconda\\\\lib\\\\site-packages', 'C:\\\\Anaconda\\\\lib\\\\site-packages\\\\PIL', 'C:\\\\Anaconda\\\\lib\\\\site-packages\\\\win32', 'C:\\\\Anaconda\\\\lib\\\\site-packages\\\\win32\\\\lib', 'C:\\\\Anaconda\\\\lib\\\\site-packages\\\\Pythonwin', 'C:\\\\Anaconda\\\\lib\\\\site-packages\\\\runipy-0.1.0-py2.7.egg', 'C:\\\\Anaconda\\\\lib\\\\site-packages\\\\setuptools-3.6-py2.7.egg', 'C:\\\\Anaconda\\\\lib\\\\site-packages\\\\IPython\\\\extensions']\n"
       ]
      },
      {
       "ename": "ImportError",
       "evalue": "No module named phase_transition",
       "output_type": "pyerr",
       "traceback": [
        "\u001b[1;31m---------------------------------------------------------------------------\u001b[0m\n\u001b[1;31mImportError\u001b[0m                               Traceback (most recent call last)",
        "\u001b[1;32m<ipython-input-1-0dc3c6ad0c02>\u001b[0m in \u001b[0;36m<module>\u001b[1;34m()\u001b[0m\n\u001b[0;32m      9\u001b[0m \u001b[1;33m\u001b[0m\u001b[0m\n\u001b[0;32m     10\u001b[0m \u001b[1;32mimport\u001b[0m \u001b[0mnumpy\u001b[0m\u001b[1;33m\u001b[0m\u001b[0m\n\u001b[1;32m---> 11\u001b[1;33m \u001b[1;32mfrom\u001b[0m \u001b[0mpyCSalgos\u001b[0m\u001b[1;33m.\u001b[0m\u001b[0mphase_transition\u001b[0m \u001b[1;32mimport\u001b[0m \u001b[0mPhaseTransition\u001b[0m\u001b[1;33m\u001b[0m\u001b[0m\n\u001b[0m\u001b[0;32m     12\u001b[0m \u001b[1;32mfrom\u001b[0m \u001b[0mpyCSalgos\u001b[0m\u001b[1;33m.\u001b[0m\u001b[0momp\u001b[0m \u001b[1;32mimport\u001b[0m \u001b[0mOrthogonalMatchingPursuit\u001b[0m\u001b[1;33m\u001b[0m\u001b[0m\n\u001b[0;32m     13\u001b[0m \u001b[1;32mfrom\u001b[0m \u001b[0mpyCSalgos\u001b[0m\u001b[1;33m.\u001b[0m\u001b[0ml1min\u001b[0m \u001b[1;32mimport\u001b[0m \u001b[0mL1Min\u001b[0m\u001b[1;33m\u001b[0m\u001b[0m\n",
        "\u001b[1;31mImportError\u001b[0m: No module named phase_transition"
       ]
      }
     ],
     "prompt_number": 1
    },
    {
     "cell_type": "code",
     "collapsed": false,
     "input": [],
     "language": "python",
     "metadata": {},
     "outputs": [],
     "prompt_number": 0
    },
    {
     "cell_type": "code",
     "collapsed": false,
     "input": [],
     "language": "python",
     "metadata": {},
     "outputs": [],
     "prompt_number": 0
    },
    {
     "cell_type": "code",
     "collapsed": false,
     "input": [],
     "language": "python",
     "metadata": {},
     "outputs": []
    }
   ],
   "metadata": {}
  }
 ]
}